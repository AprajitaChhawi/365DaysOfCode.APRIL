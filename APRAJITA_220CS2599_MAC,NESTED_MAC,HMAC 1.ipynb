{
 "cells": [
  {
   "cell_type": "code",
   "execution_count": 1,
   "metadata": {},
   "outputs": [],
   "source": [
    "import hashlib"
   ]
  },
  {
   "cell_type": "code",
   "execution_count": 2,
   "metadata": {},
   "outputs": [
    {
     "name": "stdout",
     "output_type": "stream",
     "text": [
      "{'sha3_256', 'sha384', 'sha3_224', 'blake2b', 'sha1', 'sha3_384', 'shake_256', 'blake2s', 'md5', 'sha224', 'sha3_512', 'sha256', 'sha512', 'shake_128'}\n"
     ]
    }
   ],
   "source": [
    "print(hashlib.algorithms_guaranteed)"
   ]
  },
  {
   "cell_type": "code",
   "execution_count": 3,
   "metadata": {},
   "outputs": [
    {
     "name": "stdout",
     "output_type": "stream",
     "text": [
      "Message digest from MAC is : 96f3c5ddcb955dfbcd24104fa1681cff31f83b755bbb20248094e6c384c5af250f919d0bf3c7f0572ef73c8756db7bae0cd3e189674df3ac77d5a94c5293ef1a\n",
      "Aprajita-Chhawi,96f3c5ddcb955dfbcd24104fa1681cff31f83b755bbb20248094e6c384c5af250f919d0bf3c7f0572ef73c8756db7bae0cd3e189674df3ac77d5a94c5293ef1a\n"
     ]
    }
   ],
   "source": [
    "#MAC\n",
    "from hashlib import sha3_512\n",
    "Message=b'Aprajita-Chhawi'\n",
    "key=b'Begusarai-Bihar'\n",
    "h=sha3_512(key)\n",
    "h.update(Message)\n",
    "MAC=h.hexdigest()\n",
    "print(\"Message digest from MAC is :\",MAC)\n",
    "print(\"{0},{1}\".format(Message.decode('utf-8'),MAC))"
   ]
  },
  {
   "cell_type": "code",
   "execution_count": 4,
   "metadata": {},
   "outputs": [
    {
     "name": "stdout",
     "output_type": "stream",
     "text": [
      "Intermediate message digest from MAC is : 96f3c5ddcb955dfbcd24104fa1681cff31f83b755bbb20248094e6c384c5af250f919d0bf3c7f0572ef73c8756db7bae0cd3e189674df3ac77d5a94c5293ef1a\n",
      "Aprajita-Chhawi,96f3c5ddcb955dfbcd24104fa1681cff31f83b755bbb20248094e6c384c5af250f919d0bf3c7f0572ef73c8756db7bae0cd3e189674df3ac77d5a94c5293ef1a\n",
      "Final message digest from MAC is : a8c7d244a43ca333a11b4cf90577ba9232f23c9b70c451e5a3d64e18a61bd7e263356ab9384c2035ab69feb6952d2471180af41c94e244dab46a58810c083fa8\n",
      "Aprajita-Chhawi,a8c7d244a43ca333a11b4cf90577ba9232f23c9b70c451e5a3d64e18a61bd7e263356ab9384c2035ab69feb6952d2471180af41c94e244dab46a58810c083fa8\n"
     ]
    }
   ],
   "source": [
    "#NESTED MAC\n",
    "from hashlib import sha3_512\n",
    "Message=b'Aprajita-Chhawi'\n",
    "key=b'Begusarai-Bihar'\n",
    "h=sha3_512(key)\n",
    "h.update(Message)\n",
    "INT_MAC=h.hexdigest()\n",
    "print(\"Intermediate message digest from MAC is :\",INT_MAC)\n",
    "print(\"{0},{1}\".format(Message.decode('utf-8'),INT_MAC))\n",
    "INT_MAC=\"{0},{1}\".format(Message.decode('utf-8'),INT_MAC)\n",
    "h.update(b'96f3c5ddcb955dfbcd24104fa1681cff31f83b755bbb20248094e6c384c5af250f919d0bf3c7f0572ef73c8756db7bae0cd3e189674df3ac77d5a94c5293ef1a')\n",
    "MAC=h.hexdigest()\n",
    "print(\"Final message digest from MAC is :\",MAC)\n",
    "print(\"{0},{1}\".format(Message.decode('utf-8'),MAC))\n"
   ]
  },
  {
   "cell_type": "code",
   "execution_count": 5,
   "metadata": {},
   "outputs": [
    {
     "name": "stdout",
     "output_type": "stream",
     "text": [
      "HMAC digest:  b'\\xdb\\xad\\xe43\\x89\\x84J\\xed\\x91m&\\x85\\x81\\xb44?\\x05\\x15\\x02\\xbc7\\xb0\\xed8\\\\==Q\\xbeLo@\\x1a(\\x13\\x1c\\xba_Z\\xc5\\x8c\\x1e\\xd0D)\\x10\\xca\\x14\\t<\\xc3\\xa9\\xa0\\x9a\\x9d\\xab\\xcc-D\\x1c\\xe9\\xb9]`'\n",
      "HMAC hexdigest:  dbade43389844aed916d268581b4343f051502bc37b0ed385c3d3d51be4c6f401a28131cba5f5ac58c1ed0442910ca14093cc3a9a09a9dabcc2d441ce9b95d60\n"
     ]
    }
   ],
   "source": [
    "#HMAC USING PREDEFINED FUNCTION\n",
    "import hmac, hashlib\n",
    "hmac_code = hmac.new(key, Message, digestmod=hashlib.sha3_512)\n",
    "hmac_digest = hmac_code.digest()\n",
    "hmac_hexdigest = hmac_code.hexdigest()\n",
    "print('HMAC digest: ', hmac_digest)\n",
    "print('HMAC hexdigest: ', hmac_hexdigest)"
   ]
  },
  {
   "cell_type": "code",
   "execution_count": 6,
   "metadata": {},
   "outputs": [],
   "source": [
    "#defining HMAC ON OWN\n",
    "def HMAC(key,msg,b):\n",
    "    ipad_value = b//8\n",
    "    ipad = \"36\" * b\n",
    "    opad_value = b//8\n",
    "    opad=\"5C\" * b\n",
    "    key=(key.zfill(b))\n",
    "    x = int(ipad,16) ^ int(key,2)\n",
    "    hash_in = bin(x) + msg\n",
    "    hash_in = hash_in.encode('utf-8')\n",
    "    sha3_512 = hashlib.sha3_512(hash_in)\n",
    "    sha3_512_digest = sha3_512.digest()\n",
    "    sha3_512_hex_digest = sha3_512.hexdigest()\n",
    "    hash_out = sha3_512_hex_digest \n",
    "    hash_out = hash_out.zfill(b)\n",
    "    y = int(opad,16) ^ int(key,2)\n",
    "    hash_in_2 = bin(x) + bin(y)\n",
    "    hash_in_2 = hash_in_2.encode('utf-8')\n",
    "    sha3_512 = hashlib.sha3_512(hash_in_2)\n",
    "    sha3_512_digest = sha3_512.digest()\n",
    "    sha3_512_hex_digest = sha3_512.hexdigest()\n",
    "    hash_out_2 = sha3_512_hex_digest \n",
    "    return (hash_out_2)"
   ]
  },
  {
   "cell_type": "code",
   "execution_count": 13,
   "metadata": {},
   "outputs": [
    {
     "name": "stdout",
     "output_type": "stream",
     "text": [
      "31cbc91a50d15b3ea6505ccafb787c3ede6afd4f62b8da7309d6aaf759532e579ece6c058f5010f5694ffaa67d4e00adbc7d39980d78fe9fd79111c0e5025805\n"
     ]
    }
   ],
   "source": [
    "#taking random message and key\n",
    "hmac_code2= HMAC(str(1110),str(11100010101010101),5)\n",
    "print(hmac_code2)"
   ]
  },
  {
   "cell_type": "code",
   "execution_count": null,
   "metadata": {},
   "outputs": [],
   "source": []
  }
 ],
 "metadata": {
  "kernelspec": {
   "display_name": "Python 3",
   "language": "python",
   "name": "python3"
  },
  "language_info": {
   "codemirror_mode": {
    "name": "ipython",
    "version": 3
   },
   "file_extension": ".py",
   "mimetype": "text/x-python",
   "name": "python",
   "nbconvert_exporter": "python",
   "pygments_lexer": "ipython3",
   "version": "3.7.4"
  }
 },
 "nbformat": 4,
 "nbformat_minor": 2
}
